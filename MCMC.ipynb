{
 "cells": [
  {
   "cell_type": "markdown",
   "metadata": {},
   "source": [
    "## Alessandro Bianchetti"
   ]
  },
  {
   "cell_type": "markdown",
   "metadata": {},
   "source": [
    "## Exercise 7\n",
    "\n",
    "Consider a bivariate Gaussian distribution N($\\mu$,$\\Sigma$), where $\\mu$ = (4, 2),\n",
    "$\\Sigma_{11}$ = 1.44, $\\Sigma_{22}$ = 0.81, $\\Sigma_{12}$ = $\\Sigma_{12}$ = −0.702. Assume that such distribution\n",
    "describes the posterior of two parameters $X_1$ and $X_2$. Plot contours\n",
    "of this distribution and tell what are the boundaries of the 95\\% credibile\n",
    "interval for each parameter, after marginalizing over the other. Tell how\n",
    "these boundaries change if, instead of marginalizing, we fix either parameter\n",
    "to a known value. Now, re-obtain the same boundaries via Monte\n",
    "Carlo sampling of the posterior, in three ways: a) by directly drawing values\n",
    "of ($X_1$,$X_2$), by mean of a a Cholesky decomposition of the covariance\n",
    "(check in the literature how to do this); b) Via Metropolis-Hastings sampling\n",
    "of the posterior, c) Via Gibbs sampling of the posterior. In all cases,\n",
    "do not rely on pre-made code, but write your own (i.e., you can surely\n",
    "use libraries to generate known distributions, do Cholesky decomposition,\n",
    "and so on, but you should not use a pre-made library with a command like\n",
    "”Gibbs-sampling”). In all cases, provide final contour plots, and marginalized\n",
    "posteriors. In the MCMC analysis, produce also trace plots to test\n",
    "for convergence of the chains. "
   ]
  },
  {
   "cell_type": "code",
   "execution_count": 1,
   "metadata": {},
   "outputs": [],
   "source": [
    "import matplotlib.pyplot as plt\n",
    "import numpy as np\n",
    "from numpy.random import random, seed\n",
    "from scipy.stats import multivariate_normal as mvn\n",
    "\n",
    "#plt.rcParams['axes.xmargin'] = 0\n",
    "#plt.rcParams['axes.ymargin'] = 0\n",
    "%matplotlib inline"
   ]
  },
  {
   "cell_type": "code",
   "execution_count": 13,
   "metadata": {},
   "outputs": [
    {
     "name": "stderr",
     "output_type": "stream",
     "text": [
      "No handles with labels found to put in legend.\n"
     ]
    },
    {
     "data": {
      "image/png": "[encoded data removed]",
      "text/plain": [
       "<Figure size 432x288 with 1 Axes>"
      ]
     },
     "metadata": {
      "needs_background": "light"
     },
     "output_type": "display_data"
    }
   ],
   "source": [
    "D = int(2)\n",
    "x = np.random.rand(D)\n",
    "mu = np.array([4,2],float)\n",
    "cov = np.array([[1.44,-0.702],[-0.702,0.81]])\n",
    "# random symmetric matrix\n",
    "#cov = A.T.dot(A)\n",
    "\n",
    "# Generate grid points\n",
    "x, y = np.meshgrid(np.linspace(0,8,100),np.linspace(0,4,100))\n",
    "xy = np.column_stack([x.flat, y.flat])\n",
    "\n",
    "# density values at the grid points\n",
    "z = mvn.pdf(xy, mu, cov).reshape(x.shape)\n",
    "\n",
    "# arbitrary contour levels\n",
    "contour_level = [0.1, 0.2, 0.3,0.9]\n",
    "\n",
    "fig = plt.contour(x, y, z, levels = contour_level)\n",
    "plt.legend()\n",
    "plt.show()"
   ]
  },
  {
   "cell_type": "code",
   "execution_count": 8,
   "metadata": {},
   "outputs": [
    {
     "name": "stdout",
     "output_type": "stream",
     "text": [
      "[[0.  0.5 1.  1.5 2. ]\n",
      " [0.  0.5 1.  1.5 2. ]\n",
      " [0.  0.5 1.  1.5 2. ]\n",
      " [0.  0.5 1.  1.5 2. ]\n",
      " [0.  0.5 1.  1.5 2. ]]\n",
      "[[0.   0.   0.   0.   0.  ]\n",
      " [0.25 0.25 0.25 0.25 0.25]\n",
      " [0.5  0.5  0.5  0.5  0.5 ]\n",
      " [0.75 0.75 0.75 0.75 0.75]\n",
      " [1.   1.   1.   1.   1.  ]]\n"
     ]
    }
   ],
   "source": [
    "x, y = np.meshgrid(np.linspace(0,2,5),np.linspace(0,1,5))\n",
    "print(x)\n",
    "print(y)"
   ]
  },
  {
   "cell_type": "code",
   "execution_count": null,
   "metadata": {},
   "outputs": [],
   "source": []
  }
 ],
 "metadata": {
  "kernelspec": {
   "display_name": "Python 3",
   "language": "python",
   "name": "python3"
  },
  "language_info": {
   "codemirror_mode": {
    "name": "ipython",
    "version": 3
   },
   "file_extension": ".py",
   "mimetype": "text/x-python",
   "name": "python",
   "nbconvert_exporter": "python",
   "pygments_lexer": "ipython3",
   "version": "3.9.4"
  }
 },
 "nbformat": 4,
 "nbformat_minor": 2
}
